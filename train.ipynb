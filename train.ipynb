{
  "cells": [
    {
      "cell_type": "markdown",
      "source": [
        "---\n",
        "\n",
        "#Read Me\n",
        "---"
      ],
      "metadata": {
        "id": "Ain_wEfmv6X1"
      }
    },
    {
      "cell_type": "markdown",
      "source": [
        "SETUP:\n",
        "Ensure google drive has enough space (at least 12 GBs);\n",
        "It is recommended to make a new account to have a fresh drive\n",
        "\n",
        "Mount the Drive to the environment (using the icon in the colab explorer sidebar)\n",
        "\n",
        "To install necessary resources, run the imports section, it will import automatically\n",
        "\n",
        "For the first time running the program, run the first section  (Import the Dataset).  This section only needs to be run once, as it loads the images into the google drive for training.\n",
        "\n",
        "Then, run"
      ],
      "metadata": {
        "id": "aS2uMPwFv5qA"
      }
    },
    {
      "cell_type": "markdown",
      "source": [
        "# Summary\n",
        "\n",
        "Authors: Casey, D., Gallardo, N., Lindauer, S.R.\n",
        "\n",
        "Project: Galaxy Zoo\n",
        "\n",
        "This file starts by loading the pre-transformed dataset as numpy files. \n",
        "\n",
        "It splits the dataset into train and val for training. \n",
        "\n",
        "Then, it builds the model using standard CNN layers, including a normalization layer, a relu activation function for regression, and 37 outputs for the 37 morphologies. \n",
        "\n",
        "The model's fit function is then ran to train the model, and early stopping was implemented on the RMSE metric.\n",
        "\n",
        "Finally, the model is evaluated on both RMSE and accuracy."
      ],
      "metadata": {
        "id": "A8cCT8Dk4CQD"
      }
    },
    {
      "cell_type": "markdown",
      "metadata": {
        "id": "iDcxul2XoO6U"
      },
      "source": [
        "# Imports"
      ]
    },
    {
      "cell_type": "code",
      "execution_count": null,
      "metadata": {
        "id": "iAfqEY8hn8Y-"
      },
      "outputs": [],
      "source": [
        "import numpy as np\n",
        "import pandas as pd\n",
        "import matplotlib as mpl\n",
        "import matplotlib.pyplot as plt\n",
        "import os\n",
        "from pandas.plotting import scatter_matrix\n",
        "import tensorflow as tf\n",
        "import PIL\n",
        "\n",
        "from tensorflow import keras\n",
        "from tensorflow.keras import layers\n",
        "from tensorflow.keras import backend as K\n",
        "from tensorflow.keras.models import Sequential\n",
        "\n",
        "# Python ≥3.5 is required\n",
        "import sys\n",
        "assert sys.version_info >= (3, 5)"
      ]
    },
    {
      "cell_type": "markdown",
      "metadata": {
        "id": "hKclKuNERV4Z"
      },
      "source": [
        "# Load the Dataset"
      ]
    },
    {
      "cell_type": "code",
      "execution_count": null,
      "metadata": {
        "colab": {
          "base_uri": "https://localhost:8080/"
        },
        "id": "F4ysuTp-RYww",
        "outputId": "aa3fd618-6915-45cf-affb-85248fc42c8f"
      },
      "outputs": [
        {
          "output_type": "stream",
          "name": "stdout",
          "text": [
            "/content/drive/MyDrive/Colab Notebooks/data\n"
          ]
        }
      ],
      "source": [
        "# This should match what was used in get_data.ipynb\n",
        "data_size = 10000\n",
        "\n",
        "# Change directory to the data directory to be where the data files are\n",
        "%cd /content/drive/MyDrive/Colab Notebooks/data/\n",
        "\n",
        "# Load in the npy data\n",
        "images = np.load('images_training_{}.npy'.format(data_size))\n",
        "labels = np.load('labels_training_{}.npy'.format(data_size))\n"
      ]
    },
    {
      "cell_type": "markdown",
      "source": [
        "# Train/Val Split"
      ],
      "metadata": {
        "id": "XP0Hi1zzRSs8"
      }
    },
    {
      "cell_type": "code",
      "execution_count": null,
      "metadata": {
        "id": "WHgIAinXDDiL"
      },
      "outputs": [],
      "source": [
        "# Train/val split\n",
        "from sklearn.model_selection import train_test_split\n",
        "x_train, x_val, y_train, y_val = train_test_split(images, labels, test_size=0.2, random_state=1)"
      ]
    },
    {
      "cell_type": "code",
      "execution_count": null,
      "metadata": {
        "id": "L1InBrdgLYpO"
      },
      "outputs": [],
      "source": [
        "x_train = np.asarray(x_train, dtype=np.float32)"
      ]
    },
    {
      "cell_type": "code",
      "execution_count": null,
      "metadata": {
        "colab": {
          "base_uri": "https://localhost:8080/"
        },
        "id": "DX7GKKhLMb39",
        "outputId": "6f6c72c6-ccc3-413d-f440-69fa533c6d9c"
      },
      "outputs": [
        {
          "output_type": "execute_result",
          "data": {
            "text/plain": [
              "(8000, 69, 69, 3)"
            ]
          },
          "metadata": {},
          "execution_count": 9
        }
      ],
      "source": [
        "x_train.shape"
      ]
    },
    {
      "cell_type": "code",
      "execution_count": null,
      "metadata": {
        "id": "GHhQkhPMNyDI"
      },
      "outputs": [],
      "source": [
        "x_test = np.asarray(x_val, dtype=np.float32)"
      ]
    },
    {
      "cell_type": "code",
      "execution_count": null,
      "metadata": {
        "colab": {
          "base_uri": "https://localhost:8080/"
        },
        "id": "F6XoZN59NyK4",
        "outputId": "feb0c84d-d31b-4cec-cd44-d0e1e75aa8c1"
      },
      "outputs": [
        {
          "output_type": "execute_result",
          "data": {
            "text/plain": [
              "(2000, 69, 69, 3)"
            ]
          },
          "metadata": {},
          "execution_count": 11
        }
      ],
      "source": [
        "x_test.shape"
      ]
    },
    {
      "cell_type": "code",
      "execution_count": null,
      "metadata": {
        "colab": {
          "base_uri": "https://localhost:8080/"
        },
        "id": "2JgtiGNhM9SE",
        "outputId": "608f1631-646d-459c-a683-4eb04b1d9092"
      },
      "outputs": [
        {
          "output_type": "execute_result",
          "data": {
            "text/plain": [
              "(8000, 37)"
            ]
          },
          "metadata": {},
          "execution_count": 12
        }
      ],
      "source": [
        "y_train.shape"
      ]
    },
    {
      "cell_type": "code",
      "execution_count": null,
      "metadata": {
        "colab": {
          "base_uri": "https://localhost:8080/"
        },
        "id": "oPHdc_5NNxUY",
        "outputId": "f19e57a0-ffe9-400e-a626-4764d39a10bc"
      },
      "outputs": [
        {
          "output_type": "execute_result",
          "data": {
            "text/plain": [
              "(2000, 37)"
            ]
          },
          "metadata": {},
          "execution_count": 13
        }
      ],
      "source": [
        "y_val.shape"
      ]
    },
    {
      "cell_type": "markdown",
      "metadata": {
        "id": "mB9GBtq6tGhz"
      },
      "source": [
        "# Build the Model"
      ]
    },
    {
      "cell_type": "code",
      "execution_count": null,
      "metadata": {
        "id": "DLjEuoOinNC_"
      },
      "outputs": [],
      "source": [
        "# Define the layers of a convolutional neural network\n",
        "num_labels = 37\n",
        "\n",
        "model = Sequential([\n",
        "  layers.Rescaling(1./255, input_shape=(69, 69, 3)),\n",
        "  layers.Conv2D(16, 3, padding='same', activation='relu'),\n",
        "  layers.MaxPooling2D(),\n",
        "  layers.Conv2D(32, 3, padding='same', activation='relu'),\n",
        "  layers.MaxPooling2D(),\n",
        "  layers.Conv2D(64, 3, padding='same', activation='relu'),\n",
        "  layers.MaxPooling2D(),\n",
        "  layers.Flatten(),\n",
        "  layers.Dense(128, activation='relu'),\n",
        "  layers.Dense(num_labels)\n",
        "])"
      ]
    },
    {
      "cell_type": "code",
      "execution_count": null,
      "metadata": {
        "colab": {
          "base_uri": "https://localhost:8080/"
        },
        "id": "Azgh17fXnd3Q",
        "outputId": "e19d5ad2-fdf5-4090-b5f6-474b33fa7cfd"
      },
      "outputs": [
        {
          "output_type": "stream",
          "name": "stderr",
          "text": [
            "/usr/local/lib/python3.7/dist-packages/keras/optimizer_v2/gradient_descent.py:102: UserWarning: The `lr` argument is deprecated, use `learning_rate` instead.\n",
            "  super(SGD, self).__init__(name, **kwargs)\n"
          ]
        }
      ],
      "source": [
        "# Choose an optimizer and loss for multi label regression\n",
        "model.compile(optimizer=tf.keras.optimizers.SGD(lr=0.001),\n",
        "    loss=tf.keras.losses.MeanSquaredError(),\n",
        "    metrics=[tf.keras.metrics.RootMeanSquaredError(), 'accuracy'])"
      ]
    },
    {
      "cell_type": "code",
      "execution_count": null,
      "metadata": {
        "colab": {
          "base_uri": "https://localhost:8080/"
        },
        "id": "uwxMc4C-neAP",
        "outputId": "e091c028-29dc-4f1c-dc43-9c329445beb3"
      },
      "outputs": [
        {
          "output_type": "stream",
          "name": "stdout",
          "text": [
            "Model: \"sequential\"\n",
            "_________________________________________________________________\n",
            " Layer (type)                Output Shape              Param #   \n",
            "=================================================================\n",
            " rescaling (Rescaling)       (None, 69, 69, 3)         0         \n",
            "                                                                 \n",
            " conv2d (Conv2D)             (None, 69, 69, 16)        448       \n",
            "                                                                 \n",
            " max_pooling2d (MaxPooling2D  (None, 34, 34, 16)       0         \n",
            " )                                                               \n",
            "                                                                 \n",
            " conv2d_1 (Conv2D)           (None, 34, 34, 32)        4640      \n",
            "                                                                 \n",
            " max_pooling2d_1 (MaxPooling  (None, 17, 17, 32)       0         \n",
            " 2D)                                                             \n",
            "                                                                 \n",
            " conv2d_2 (Conv2D)           (None, 17, 17, 64)        18496     \n",
            "                                                                 \n",
            " max_pooling2d_2 (MaxPooling  (None, 8, 8, 64)         0         \n",
            " 2D)                                                             \n",
            "                                                                 \n",
            " flatten (Flatten)           (None, 4096)              0         \n",
            "                                                                 \n",
            " dense (Dense)               (None, 128)               524416    \n",
            "                                                                 \n",
            " dense_1 (Dense)             (None, 37)                4773      \n",
            "                                                                 \n",
            "=================================================================\n",
            "Total params: 552,773\n",
            "Trainable params: 552,773\n",
            "Non-trainable params: 0\n",
            "_________________________________________________________________\n"
          ]
        }
      ],
      "source": [
        "# See model\n",
        "model.summary()"
      ]
    },
    {
      "cell_type": "markdown",
      "metadata": {
        "id": "cZMXeSSjtNwv"
      },
      "source": [
        "## Train the model"
      ]
    },
    {
      "cell_type": "code",
      "execution_count": null,
      "metadata": {
        "colab": {
          "base_uri": "https://localhost:8080/"
        },
        "id": "KhL7CQqQJ_qQ",
        "outputId": "a3b69611-f7f6-4dd3-98a6-8d89ffbfacf1"
      },
      "outputs": [
        {
          "output_type": "stream",
          "name": "stdout",
          "text": [
            "Epoch 1/100\n",
            "250/250 [==============================] - 37s 147ms/step - loss: 0.0611 - root_mean_squared_error: 0.2471 - accuracy: 0.5639 - val_loss: 0.0583 - val_root_mean_squared_error: 0.2416 - val_accuracy: 0.5955\n",
            "Epoch 2/100\n",
            "250/250 [==============================] - 37s 147ms/step - loss: 0.0576 - root_mean_squared_error: 0.2400 - accuracy: 0.5936 - val_loss: 0.0550 - val_root_mean_squared_error: 0.2346 - val_accuracy: 0.6075\n",
            "Epoch 3/100\n",
            "250/250 [==============================] - 37s 148ms/step - loss: 0.0544 - root_mean_squared_error: 0.2332 - accuracy: 0.5995 - val_loss: 0.0519 - val_root_mean_squared_error: 0.2279 - val_accuracy: 0.6095\n",
            "Epoch 4/100\n",
            "250/250 [==============================] - 36s 146ms/step - loss: 0.0513 - root_mean_squared_error: 0.2265 - accuracy: 0.6014 - val_loss: 0.0489 - val_root_mean_squared_error: 0.2212 - val_accuracy: 0.6105\n",
            "Epoch 5/100\n",
            "250/250 [==============================] - 36s 142ms/step - loss: 0.0483 - root_mean_squared_error: 0.2198 - accuracy: 0.6020 - val_loss: 0.0460 - val_root_mean_squared_error: 0.2145 - val_accuracy: 0.6115\n",
            "Epoch 6/100\n",
            "250/250 [==============================] - 35s 142ms/step - loss: 0.0454 - root_mean_squared_error: 0.2130 - accuracy: 0.6022 - val_loss: 0.0432 - val_root_mean_squared_error: 0.2078 - val_accuracy: 0.6115\n",
            "Epoch 7/100\n",
            "250/250 [==============================] - 35s 141ms/step - loss: 0.0426 - root_mean_squared_error: 0.2065 - accuracy: 0.6024 - val_loss: 0.0407 - val_root_mean_squared_error: 0.2017 - val_accuracy: 0.6115\n",
            "Epoch 8/100\n",
            "250/250 [==============================] - 35s 142ms/step - loss: 0.0403 - root_mean_squared_error: 0.2007 - accuracy: 0.6024 - val_loss: 0.0385 - val_root_mean_squared_error: 0.1963 - val_accuracy: 0.6115\n",
            "Epoch 9/100\n",
            "250/250 [==============================] - 35s 141ms/step - loss: 0.0383 - root_mean_squared_error: 0.1957 - accuracy: 0.6024 - val_loss: 0.0368 - val_root_mean_squared_error: 0.1918 - val_accuracy: 0.6115\n",
            "Epoch 10/100\n",
            "250/250 [==============================] - 35s 141ms/step - loss: 0.0367 - root_mean_squared_error: 0.1915 - accuracy: 0.6025 - val_loss: 0.0354 - val_root_mean_squared_error: 0.1881 - val_accuracy: 0.6115\n",
            "Epoch 11/100\n",
            "250/250 [==============================] - 35s 141ms/step - loss: 0.0354 - root_mean_squared_error: 0.1881 - accuracy: 0.6025 - val_loss: 0.0342 - val_root_mean_squared_error: 0.1850 - val_accuracy: 0.6115\n",
            "Epoch 12/100\n",
            "250/250 [==============================] - 35s 141ms/step - loss: 0.0343 - root_mean_squared_error: 0.1852 - accuracy: 0.6025 - val_loss: 0.0333 - val_root_mean_squared_error: 0.1824 - val_accuracy: 0.6115\n",
            "Epoch 13/100\n",
            "250/250 [==============================] - 35s 141ms/step - loss: 0.0334 - root_mean_squared_error: 0.1827 - accuracy: 0.6025 - val_loss: 0.0325 - val_root_mean_squared_error: 0.1802 - val_accuracy: 0.6115\n",
            "Epoch 14/100\n",
            "250/250 [==============================] - 35s 141ms/step - loss: 0.0326 - root_mean_squared_error: 0.1806 - accuracy: 0.6025 - val_loss: 0.0318 - val_root_mean_squared_error: 0.1782 - val_accuracy: 0.6115\n",
            "Epoch 15/100\n",
            "250/250 [==============================] - 35s 141ms/step - loss: 0.0319 - root_mean_squared_error: 0.1787 - accuracy: 0.6025 - val_loss: 0.0312 - val_root_mean_squared_error: 0.1765 - val_accuracy: 0.6115\n",
            "Epoch 16/100\n",
            "250/250 [==============================] - 35s 140ms/step - loss: 0.0313 - root_mean_squared_error: 0.1770 - accuracy: 0.6025 - val_loss: 0.0306 - val_root_mean_squared_error: 0.1750 - val_accuracy: 0.6115\n",
            "Epoch 17/100\n",
            "250/250 [==============================] - 35s 140ms/step - loss: 0.0308 - root_mean_squared_error: 0.1756 - accuracy: 0.6025 - val_loss: 0.0302 - val_root_mean_squared_error: 0.1737 - val_accuracy: 0.6115\n",
            "Epoch 18/100\n",
            "250/250 [==============================] - 35s 140ms/step - loss: 0.0304 - root_mean_squared_error: 0.1743 - accuracy: 0.6025 - val_loss: 0.0298 - val_root_mean_squared_error: 0.1725 - val_accuracy: 0.6115\n",
            "Epoch 19/100\n",
            "250/250 [==============================] - 35s 141ms/step - loss: 0.0300 - root_mean_squared_error: 0.1732 - accuracy: 0.6025 - val_loss: 0.0294 - val_root_mean_squared_error: 0.1715 - val_accuracy: 0.6115\n",
            "Epoch 20/100\n",
            "250/250 [==============================] - 35s 140ms/step - loss: 0.0297 - root_mean_squared_error: 0.1722 - accuracy: 0.6025 - val_loss: 0.0291 - val_root_mean_squared_error: 0.1706 - val_accuracy: 0.6115\n",
            "Epoch 21/100\n",
            "250/250 [==============================] - 35s 140ms/step - loss: 0.0294 - root_mean_squared_error: 0.1714 - accuracy: 0.6025 - val_loss: 0.0288 - val_root_mean_squared_error: 0.1698 - val_accuracy: 0.6115\n",
            "Epoch 22/100\n",
            "250/250 [==============================] - 35s 140ms/step - loss: 0.0291 - root_mean_squared_error: 0.1707 - accuracy: 0.6025 - val_loss: 0.0286 - val_root_mean_squared_error: 0.1692 - val_accuracy: 0.6115\n",
            "Epoch 23/100\n",
            "250/250 [==============================] - 37s 147ms/step - loss: 0.0289 - root_mean_squared_error: 0.1700 - accuracy: 0.6025 - val_loss: 0.0284 - val_root_mean_squared_error: 0.1686 - val_accuracy: 0.6115\n",
            "Epoch 24/100\n",
            "250/250 [==============================] - 35s 141ms/step - loss: 0.0287 - root_mean_squared_error: 0.1695 - accuracy: 0.6025 - val_loss: 0.0283 - val_root_mean_squared_error: 0.1681 - val_accuracy: 0.6115\n",
            "Epoch 25/100\n",
            "250/250 [==============================] - 36s 145ms/step - loss: 0.0286 - root_mean_squared_error: 0.1690 - accuracy: 0.6025 - val_loss: 0.0281 - val_root_mean_squared_error: 0.1677 - val_accuracy: 0.6115\n",
            "Epoch 26/100\n",
            "250/250 [==============================] - 37s 147ms/step - loss: 0.0284 - root_mean_squared_error: 0.1686 - accuracy: 0.6025 - val_loss: 0.0280 - val_root_mean_squared_error: 0.1673 - val_accuracy: 0.6115\n",
            "Epoch 27/100\n",
            "250/250 [==============================] - 37s 147ms/step - loss: 0.0283 - root_mean_squared_error: 0.1682 - accuracy: 0.6025 - val_loss: 0.0279 - val_root_mean_squared_error: 0.1670 - val_accuracy: 0.6115\n",
            "Epoch 28/100\n",
            "250/250 [==============================] - 37s 147ms/step - loss: 0.0282 - root_mean_squared_error: 0.1679 - accuracy: 0.6025 - val_loss: 0.0278 - val_root_mean_squared_error: 0.1667 - val_accuracy: 0.6115\n",
            "Epoch 29/100\n",
            "222/250 [=========================>....] - ETA: 3s - loss: 0.0280 - root_mean_squared_error: 0.1673 - accuracy: 0.6052"
          ]
        }
      ],
      "source": [
        "# Set large epoch number and early stopping\n",
        "epochs = 100\n",
        "callback = tf.keras.callbacks.EarlyStopping(monitor='root_mean_squared_error', patience=5)\n",
        "\n",
        "# Fit the regression model\n",
        "history = model.fit(x_train, y_train,\n",
        "   epochs=epochs, batch_size=32, validation_data=(x_test, y_val), callbacks=[callback])"
      ]
    },
    {
      "cell_type": "code",
      "source": [
        "model.save('/content/drive/MyDrive/Colab Notebooks/model_snapshots/{}_epochs_{}_data'.format(epochs, data_size))"
      ],
      "metadata": {
        "id": "VqCFfV4YShgS"
      },
      "execution_count": null,
      "outputs": []
    },
    {
      "cell_type": "markdown",
      "metadata": {
        "id": "vdKZnyqEJ4nc"
      },
      "source": [
        "# Eval"
      ]
    },
    {
      "cell_type": "code",
      "execution_count": null,
      "metadata": {
        "colab": {
          "base_uri": "https://localhost:8080/",
          "height": 432
        },
        "id": "BUUGM-pzW8kz",
        "outputId": "de2b6e79-d23f-452f-a5b6-7fda8cc7c67a"
      },
      "outputs": [
        {
          "output_type": "display_data",
          "data": {
            "text/plain": [
              "<Figure size 1728x576 with 3 Axes>"
            ],
            "image/png": "[encoded data removed]"
          },
          "metadata": {
            "needs_background": "light"
          }
        }
      ],
      "source": [
        "#Evaluation\n",
        "#Approach based off of https://www.tensorflow.org/tutorials/images/classification\n",
        "accuracy = history.history['accuracy']\n",
        "validation_acc = history.history['val_accuracy']\n",
        "\n",
        "loss = history.history['loss'] #Is this loss?\n",
        "validation_loss = history.history['val_loss']\n",
        "\n",
        "RMSE_acc = history.history['root_mean_squared_error']\n",
        "RMSE_val_acc = history.history['val_root_mean_squared_error']\n",
        "\n",
        "epochs_range = range(epochs)\n",
        "\n",
        "plt.figure(figsize=(24,8))\n",
        "\n",
        "plt.subplot(1,3,1)\n",
        "plt.plot(epochs_range, accuracy, label='Training Accuracy')\n",
        "plt.plot(epochs_range, validation_acc, label = 'Validation Accuracy')\n",
        "plt.legend(loc='lower right')\n",
        "plt.title('Training and Validation Accuracy')\n",
        "\n",
        "plt.subplot(1,3,2)\n",
        "plt.plot(epochs_range, loss, label = 'Training loss')\n",
        "plt.plot(epochs_range, validation_loss, label = 'Validation loss')\n",
        "plt.legend(loc = 'upper right')\n",
        "plt.title('Training and Validation loss')\n",
        "\n",
        "plt.subplot(1,3,3)\n",
        "plt.plot(epochs_range, RMSE_acc, label = 'Training RMSE')\n",
        "plt.plot(epochs_range, RMSE_val_acc, label = 'Validation RMSE')\n",
        "plt.legend(loc='upper right')\n",
        "plt.title('Training and Validation RMSE')\n",
        "plt.show()"
      ]
    }
  ],
  "metadata": {
    "colab": {
      "collapsed_sections": [],
      "name": "train.ipynb",
      "provenance": []
    },
    "kernelspec": {
      "display_name": "Python 3",
      "name": "python3"
    },
    "language_info": {
      "name": "python"
    }
  },
  "nbformat": 4,
  "nbformat_minor": 0
}